{
 "cells": [
  {
   "cell_type": "markdown",
   "id": "2cc94727",
   "metadata": {},
   "source": [
    "# MeLi Data Challenge 2021\n",
    "\n",
    "**TASK:** Your task is to predict how long it will take for the inventory of a certain item to be sold completely. In inventory management theory this concept is known as inventory days, but providing a prediction (probabilities) for the number of days it will take to run out.\n",
    "\n",
    "**METRIC:** Submissions will be scored using the `Ranked Probability Score (RPS)` metric.\n",
    "\n",
    "## 1. Introduction\n",
    "\n",
    "We'll take a quick look at the data and make a brief research of posible models or approaches for this problem.\n",
    "\n",
    "### 1.1 Loading the datasets\n",
    "\n"
   ]
  },
  {
   "cell_type": "code",
   "execution_count": 52,
   "id": "44d859e6",
   "metadata": {},
   "outputs": [],
   "source": [
    "import pandas as pd\n",
    "import numpy as np\n",
    "\n",
    "import matplotlib.pyplot as plt\n",
    "import seaborn as sns\n",
    "\n",
    "from sklearn.model_selection import train_test_split\n",
    "from sklearn.preprocessing import StandardScaler\n",
    "\n",
    "\n",
    "%matplotlib inline\n",
    "sns.set_style('darkgrid')\n",
    "plt.style.use('seaborn')"
   ]
  },
  {
   "cell_type": "code",
   "execution_count": 3,
   "id": "72fa3722",
   "metadata": {},
   "outputs": [
    {
     "data": {
      "text/html": [
       "<div>\n",
       "<style scoped>\n",
       "    .dataframe tbody tr th:only-of-type {\n",
       "        vertical-align: middle;\n",
       "    }\n",
       "\n",
       "    .dataframe tbody tr th {\n",
       "        vertical-align: top;\n",
       "    }\n",
       "\n",
       "    .dataframe thead th {\n",
       "        text-align: right;\n",
       "    }\n",
       "</style>\n",
       "<table border=\"1\" class=\"dataframe\">\n",
       "  <thead>\n",
       "    <tr style=\"text-align: right;\">\n",
       "      <th></th>\n",
       "      <th>sku</th>\n",
       "      <th>date</th>\n",
       "      <th>sold_quantity</th>\n",
       "      <th>current_price</th>\n",
       "      <th>currency</th>\n",
       "      <th>listing_type</th>\n",
       "      <th>shipping_logistic_type</th>\n",
       "      <th>shipping_payment</th>\n",
       "      <th>minutes_active</th>\n",
       "    </tr>\n",
       "  </thead>\n",
       "  <tbody>\n",
       "    <tr>\n",
       "      <th>0</th>\n",
       "      <td>464801</td>\n",
       "      <td>2021-02-01</td>\n",
       "      <td>0</td>\n",
       "      <td>156.78</td>\n",
       "      <td>REA</td>\n",
       "      <td>classic</td>\n",
       "      <td>fulfillment</td>\n",
       "      <td>free_shipping</td>\n",
       "      <td>1440.0</td>\n",
       "    </tr>\n",
       "    <tr>\n",
       "      <th>1</th>\n",
       "      <td>464801</td>\n",
       "      <td>2021-02-02</td>\n",
       "      <td>0</td>\n",
       "      <td>156.78</td>\n",
       "      <td>REA</td>\n",
       "      <td>classic</td>\n",
       "      <td>fulfillment</td>\n",
       "      <td>free_shipping</td>\n",
       "      <td>1440.0</td>\n",
       "    </tr>\n",
       "    <tr>\n",
       "      <th>2</th>\n",
       "      <td>464801</td>\n",
       "      <td>2021-02-03</td>\n",
       "      <td>0</td>\n",
       "      <td>156.78</td>\n",
       "      <td>REA</td>\n",
       "      <td>classic</td>\n",
       "      <td>fulfillment</td>\n",
       "      <td>free_shipping</td>\n",
       "      <td>1440.0</td>\n",
       "    </tr>\n",
       "    <tr>\n",
       "      <th>3</th>\n",
       "      <td>464801</td>\n",
       "      <td>2021-02-04</td>\n",
       "      <td>0</td>\n",
       "      <td>156.78</td>\n",
       "      <td>REA</td>\n",
       "      <td>classic</td>\n",
       "      <td>fulfillment</td>\n",
       "      <td>free_shipping</td>\n",
       "      <td>1440.0</td>\n",
       "    </tr>\n",
       "    <tr>\n",
       "      <th>4</th>\n",
       "      <td>464801</td>\n",
       "      <td>2021-02-05</td>\n",
       "      <td>1</td>\n",
       "      <td>156.78</td>\n",
       "      <td>REA</td>\n",
       "      <td>classic</td>\n",
       "      <td>fulfillment</td>\n",
       "      <td>free_shipping</td>\n",
       "      <td>1440.0</td>\n",
       "    </tr>\n",
       "  </tbody>\n",
       "</table>\n",
       "</div>"
      ],
      "text/plain": [
       "      sku        date  sold_quantity  current_price currency listing_type  \\\n",
       "0  464801  2021-02-01              0         156.78      REA      classic   \n",
       "1  464801  2021-02-02              0         156.78      REA      classic   \n",
       "2  464801  2021-02-03              0         156.78      REA      classic   \n",
       "3  464801  2021-02-04              0         156.78      REA      classic   \n",
       "4  464801  2021-02-05              1         156.78      REA      classic   \n",
       "\n",
       "  shipping_logistic_type shipping_payment  minutes_active  \n",
       "0            fulfillment    free_shipping          1440.0  \n",
       "1            fulfillment    free_shipping          1440.0  \n",
       "2            fulfillment    free_shipping          1440.0  \n",
       "3            fulfillment    free_shipping          1440.0  \n",
       "4            fulfillment    free_shipping          1440.0  "
      ]
     },
     "execution_count": 3,
     "metadata": {},
     "output_type": "execute_result"
    }
   ],
   "source": [
    "df = pd.read_parquet('train_data.parquet')\n",
    "df.head()"
   ]
  },
  {
   "cell_type": "code",
   "execution_count": 4,
   "id": "aa328e99",
   "metadata": {},
   "outputs": [
    {
     "name": "stdout",
     "output_type": "stream",
     "text": [
      "Shape of the training data: (37660279, 9)\n"
     ]
    }
   ],
   "source": [
    "print('Shape of the training data:', df.shape)"
   ]
  },
  {
   "cell_type": "markdown",
   "id": "bc42c214",
   "metadata": {},
   "source": [
    "Regarding the fields of our dataset, we have:\n",
    "- **SKU:** Stock Keeping Unit, is the id of the item sold.\n",
    "- **Date:** Date of sale.\n",
    "- **Current price:** Price of the SKU when it was sold.\n",
    "- **Listing type:** Can be either *classic* or *premium* and they relate to the exposure the items have and the fee charged to the seller as a sales comission.\n",
    "- **Shipping logistic type:** type of shipping method offered for that particular date. Possible values are:*fulfillment* *cross_docking* and *drop_off*.\n",
    "- **Shipping payment:** whether the shipping offered at that particular date was *free* or *paid*, from the buyer's perspective.\n",
    "- **Minutes active:** number of minutes the SKU was available for purchase on that particular date."
   ]
  },
  {
   "cell_type": "code",
   "execution_count": 7,
   "id": "ec3b6a90",
   "metadata": {},
   "outputs": [
    {
     "data": {
      "text/html": [
       "<div>\n",
       "<style scoped>\n",
       "    .dataframe tbody tr th:only-of-type {\n",
       "        vertical-align: middle;\n",
       "    }\n",
       "\n",
       "    .dataframe tbody tr th {\n",
       "        vertical-align: top;\n",
       "    }\n",
       "\n",
       "    .dataframe thead th {\n",
       "        text-align: right;\n",
       "    }\n",
       "</style>\n",
       "<table border=\"1\" class=\"dataframe\">\n",
       "  <thead>\n",
       "    <tr style=\"text-align: right;\">\n",
       "      <th></th>\n",
       "      <th>sku</th>\n",
       "      <th>target_stock</th>\n",
       "    </tr>\n",
       "  </thead>\n",
       "  <tbody>\n",
       "    <tr>\n",
       "      <th>0</th>\n",
       "      <td>464801</td>\n",
       "      <td>3</td>\n",
       "    </tr>\n",
       "    <tr>\n",
       "      <th>1</th>\n",
       "      <td>645793</td>\n",
       "      <td>4</td>\n",
       "    </tr>\n",
       "    <tr>\n",
       "      <th>2</th>\n",
       "      <td>99516</td>\n",
       "      <td>8</td>\n",
       "    </tr>\n",
       "    <tr>\n",
       "      <th>3</th>\n",
       "      <td>538100</td>\n",
       "      <td>8</td>\n",
       "    </tr>\n",
       "    <tr>\n",
       "      <th>4</th>\n",
       "      <td>557191</td>\n",
       "      <td>10</td>\n",
       "    </tr>\n",
       "  </tbody>\n",
       "</table>\n",
       "</div>"
      ],
      "text/plain": [
       "      sku  target_stock\n",
       "0  464801             3\n",
       "1  645793             4\n",
       "2   99516             8\n",
       "3  538100             8\n",
       "4  557191            10"
      ]
     },
     "execution_count": 7,
     "metadata": {},
     "output_type": "execute_result"
    }
   ],
   "source": [
    "targets = pd.read_csv('test_data.csv')\n",
    "targets.head()"
   ]
  },
  {
   "cell_type": "code",
   "execution_count": 11,
   "id": "54a05019",
   "metadata": {},
   "outputs": [
    {
     "data": {
      "text/html": [
       "<div>\n",
       "<style scoped>\n",
       "    .dataframe tbody tr th:only-of-type {\n",
       "        vertical-align: middle;\n",
       "    }\n",
       "\n",
       "    .dataframe tbody tr th {\n",
       "        vertical-align: top;\n",
       "    }\n",
       "\n",
       "    .dataframe thead th {\n",
       "        text-align: right;\n",
       "    }\n",
       "</style>\n",
       "<table border=\"1\" class=\"dataframe\">\n",
       "  <thead>\n",
       "    <tr style=\"text-align: right;\">\n",
       "      <th></th>\n",
       "      <th>sku</th>\n",
       "      <th>date</th>\n",
       "      <th>sold_quantity</th>\n",
       "      <th>current_price</th>\n",
       "      <th>currency</th>\n",
       "      <th>listing_type</th>\n",
       "      <th>shipping_logistic_type</th>\n",
       "      <th>shipping_payment</th>\n",
       "      <th>minutes_active</th>\n",
       "      <th>target_stock</th>\n",
       "    </tr>\n",
       "  </thead>\n",
       "  <tbody>\n",
       "    <tr>\n",
       "      <th>0</th>\n",
       "      <td>464801</td>\n",
       "      <td>2021-02-01</td>\n",
       "      <td>0</td>\n",
       "      <td>156.78</td>\n",
       "      <td>REA</td>\n",
       "      <td>classic</td>\n",
       "      <td>fulfillment</td>\n",
       "      <td>free_shipping</td>\n",
       "      <td>1440.00</td>\n",
       "      <td>3</td>\n",
       "    </tr>\n",
       "    <tr>\n",
       "      <th>1</th>\n",
       "      <td>464801</td>\n",
       "      <td>2021-02-02</td>\n",
       "      <td>0</td>\n",
       "      <td>156.78</td>\n",
       "      <td>REA</td>\n",
       "      <td>classic</td>\n",
       "      <td>fulfillment</td>\n",
       "      <td>free_shipping</td>\n",
       "      <td>1440.00</td>\n",
       "      <td>3</td>\n",
       "    </tr>\n",
       "    <tr>\n",
       "      <th>2</th>\n",
       "      <td>464801</td>\n",
       "      <td>2021-02-03</td>\n",
       "      <td>0</td>\n",
       "      <td>156.78</td>\n",
       "      <td>REA</td>\n",
       "      <td>classic</td>\n",
       "      <td>fulfillment</td>\n",
       "      <td>free_shipping</td>\n",
       "      <td>1440.00</td>\n",
       "      <td>3</td>\n",
       "    </tr>\n",
       "    <tr>\n",
       "      <th>3</th>\n",
       "      <td>464801</td>\n",
       "      <td>2021-02-04</td>\n",
       "      <td>0</td>\n",
       "      <td>156.78</td>\n",
       "      <td>REA</td>\n",
       "      <td>classic</td>\n",
       "      <td>fulfillment</td>\n",
       "      <td>free_shipping</td>\n",
       "      <td>1440.00</td>\n",
       "      <td>3</td>\n",
       "    </tr>\n",
       "    <tr>\n",
       "      <th>4</th>\n",
       "      <td>464801</td>\n",
       "      <td>2021-02-05</td>\n",
       "      <td>1</td>\n",
       "      <td>156.78</td>\n",
       "      <td>REA</td>\n",
       "      <td>classic</td>\n",
       "      <td>fulfillment</td>\n",
       "      <td>free_shipping</td>\n",
       "      <td>1440.00</td>\n",
       "      <td>3</td>\n",
       "    </tr>\n",
       "  </tbody>\n",
       "</table>\n",
       "</div>"
      ],
      "text/plain": [
       "      sku        date  sold_quantity  current_price currency listing_type  \\\n",
       "0  464801  2021-02-01              0         156.78      REA      classic   \n",
       "1  464801  2021-02-02              0         156.78      REA      classic   \n",
       "2  464801  2021-02-03              0         156.78      REA      classic   \n",
       "3  464801  2021-02-04              0         156.78      REA      classic   \n",
       "4  464801  2021-02-05              1         156.78      REA      classic   \n",
       "\n",
       "  shipping_logistic_type shipping_payment  minutes_active  target_stock  \n",
       "0            fulfillment    free_shipping         1440.00             3  \n",
       "1            fulfillment    free_shipping         1440.00             3  \n",
       "2            fulfillment    free_shipping         1440.00             3  \n",
       "3            fulfillment    free_shipping         1440.00             3  \n",
       "4            fulfillment    free_shipping         1440.00             3  "
      ]
     },
     "execution_count": 11,
     "metadata": {},
     "output_type": "execute_result"
    }
   ],
   "source": [
    "df = df.merge(targets, left_on='sku', right_on='sku')\n",
    "df.head()"
   ]
  },
  {
   "cell_type": "code",
   "execution_count": null,
   "id": "be88236c",
   "metadata": {},
   "outputs": [],
   "source": [
    "def rps(X_test, target_predicted):\n",
    "    \n",
    "    # Calculate r-squared score\n",
    "    r_squared = r2_score(X_test, target_predicted)\n",
    "    \n",
    "    # Return r-squared score\n",
    "    return r_squared"
   ]
  },
  {
   "cell_type": "markdown",
   "id": "5c9561ef",
   "metadata": {},
   "source": [
    "### 1.2 Possible approaches (research)"
   ]
  },
  {
   "cell_type": "markdown",
   "id": "0c5a5b21",
   "metadata": {},
   "source": [
    "## 2. Exploratory Data Analysis"
   ]
  },
  {
   "cell_type": "code",
   "execution_count": 5,
   "id": "f26f78d4",
   "metadata": {},
   "outputs": [
    {
     "name": "stdout",
     "output_type": "stream",
     "text": [
      "<class 'pandas.core.frame.DataFrame'>\n",
      "RangeIndex: 37660279 entries, 0 to 37660278\n",
      "Data columns (total 9 columns):\n",
      " #   Column                  Dtype  \n",
      "---  ------                  -----  \n",
      " 0   sku                     int64  \n",
      " 1   date                    object \n",
      " 2   sold_quantity           int64  \n",
      " 3   current_price           float64\n",
      " 4   currency                object \n",
      " 5   listing_type            object \n",
      " 6   shipping_logistic_type  object \n",
      " 7   shipping_payment        object \n",
      " 8   minutes_active          float64\n",
      "dtypes: float64(2), int64(2), object(5)\n",
      "memory usage: 2.5+ GB\n"
     ]
    }
   ],
   "source": [
    "df.info()"
   ]
  },
  {
   "cell_type": "code",
   "execution_count": 6,
   "id": "6162e241",
   "metadata": {},
   "outputs": [
    {
     "data": {
      "text/html": [
       "<div>\n",
       "<style scoped>\n",
       "    .dataframe tbody tr th:only-of-type {\n",
       "        vertical-align: middle;\n",
       "    }\n",
       "\n",
       "    .dataframe tbody tr th {\n",
       "        vertical-align: top;\n",
       "    }\n",
       "\n",
       "    .dataframe thead th {\n",
       "        text-align: right;\n",
       "    }\n",
       "</style>\n",
       "<table border=\"1\" class=\"dataframe\">\n",
       "  <thead>\n",
       "    <tr style=\"text-align: right;\">\n",
       "      <th></th>\n",
       "      <th>count</th>\n",
       "      <th>mean</th>\n",
       "      <th>std</th>\n",
       "      <th>min</th>\n",
       "      <th>25%</th>\n",
       "      <th>50%</th>\n",
       "      <th>75%</th>\n",
       "      <th>max</th>\n",
       "    </tr>\n",
       "  </thead>\n",
       "  <tbody>\n",
       "    <tr>\n",
       "      <th>sku</th>\n",
       "      <td>37660279.00</td>\n",
       "      <td>330373.86</td>\n",
       "      <td>190792.24</td>\n",
       "      <td>0.00</td>\n",
       "      <td>165125.00</td>\n",
       "      <td>330380.00</td>\n",
       "      <td>495596.00</td>\n",
       "      <td>660915.00</td>\n",
       "    </tr>\n",
       "    <tr>\n",
       "      <th>sold_quantity</th>\n",
       "      <td>37660279.00</td>\n",
       "      <td>0.99</td>\n",
       "      <td>9.99</td>\n",
       "      <td>0.00</td>\n",
       "      <td>0.00</td>\n",
       "      <td>0.00</td>\n",
       "      <td>1.00</td>\n",
       "      <td>6951.00</td>\n",
       "    </tr>\n",
       "    <tr>\n",
       "      <th>current_price</th>\n",
       "      <td>37660279.00</td>\n",
       "      <td>2357.78</td>\n",
       "      <td>1263914.36</td>\n",
       "      <td>0.87</td>\n",
       "      <td>48.70</td>\n",
       "      <td>119.00</td>\n",
       "      <td>298.59</td>\n",
       "      <td>999999999.00</td>\n",
       "    </tr>\n",
       "    <tr>\n",
       "      <th>minutes_active</th>\n",
       "      <td>37660279.00</td>\n",
       "      <td>1043.41</td>\n",
       "      <td>630.25</td>\n",
       "      <td>0.00</td>\n",
       "      <td>0.00</td>\n",
       "      <td>1440.00</td>\n",
       "      <td>1440.00</td>\n",
       "      <td>1440.00</td>\n",
       "    </tr>\n",
       "  </tbody>\n",
       "</table>\n",
       "</div>"
      ],
      "text/plain": [
       "                     count      mean        std  min       25%       50%  \\\n",
       "sku            37660279.00 330373.86  190792.24 0.00 165125.00 330380.00   \n",
       "sold_quantity  37660279.00      0.99       9.99 0.00      0.00      0.00   \n",
       "current_price  37660279.00   2357.78 1263914.36 0.87     48.70    119.00   \n",
       "minutes_active 37660279.00   1043.41     630.25 0.00      0.00   1440.00   \n",
       "\n",
       "                     75%          max  \n",
       "sku            495596.00    660915.00  \n",
       "sold_quantity       1.00      6951.00  \n",
       "current_price     298.59 999999999.00  \n",
       "minutes_active   1440.00      1440.00  "
      ]
     },
     "execution_count": 6,
     "metadata": {},
     "output_type": "execute_result"
    }
   ],
   "source": [
    "pd.set_option('display.float', '{:.2f}'.format)\n",
    "df.describe().T"
   ]
  },
  {
   "cell_type": "code",
   "execution_count": 28,
   "id": "34a50143",
   "metadata": {},
   "outputs": [],
   "source": [
    "# Replacing some price values that are not ok\n",
    "df.loc[df.current_price == 99999, 'current_price'] = df['current_price'].median()\n",
    "df.loc[df.current_price >= 999999, 'current_price'] = df['current_price'].median()\n"
   ]
  },
  {
   "cell_type": "code",
   "execution_count": 30,
   "id": "48468d9b",
   "metadata": {},
   "outputs": [
    {
     "data": {
      "text/html": [
       "<div>\n",
       "<style scoped>\n",
       "    .dataframe tbody tr th:only-of-type {\n",
       "        vertical-align: middle;\n",
       "    }\n",
       "\n",
       "    .dataframe tbody tr th {\n",
       "        vertical-align: top;\n",
       "    }\n",
       "\n",
       "    .dataframe thead th {\n",
       "        text-align: right;\n",
       "    }\n",
       "</style>\n",
       "<table border=\"1\" class=\"dataframe\">\n",
       "  <thead>\n",
       "    <tr style=\"text-align: right;\">\n",
       "      <th></th>\n",
       "      <th>count</th>\n",
       "      <th>mean</th>\n",
       "      <th>std</th>\n",
       "      <th>min</th>\n",
       "      <th>25%</th>\n",
       "      <th>50%</th>\n",
       "      <th>75%</th>\n",
       "      <th>max</th>\n",
       "    </tr>\n",
       "  </thead>\n",
       "  <tbody>\n",
       "    <tr>\n",
       "      <th>sku</th>\n",
       "      <td>31284427.00</td>\n",
       "      <td>330294.43</td>\n",
       "      <td>190753.29</td>\n",
       "      <td>0.00</td>\n",
       "      <td>165190.00</td>\n",
       "      <td>330161.00</td>\n",
       "      <td>495505.00</td>\n",
       "      <td>660914.00</td>\n",
       "    </tr>\n",
       "    <tr>\n",
       "      <th>sold_quantity</th>\n",
       "      <td>31284427.00</td>\n",
       "      <td>1.02</td>\n",
       "      <td>10.69</td>\n",
       "      <td>0.00</td>\n",
       "      <td>0.00</td>\n",
       "      <td>0.00</td>\n",
       "      <td>1.00</td>\n",
       "      <td>6951.00</td>\n",
       "    </tr>\n",
       "    <tr>\n",
       "      <th>current_price</th>\n",
       "      <td>31284427.00</td>\n",
       "      <td>543.28</td>\n",
       "      <td>2887.03</td>\n",
       "      <td>0.89</td>\n",
       "      <td>48.85</td>\n",
       "      <td>118.90</td>\n",
       "      <td>298.00</td>\n",
       "      <td>850000.00</td>\n",
       "    </tr>\n",
       "    <tr>\n",
       "      <th>minutes_active</th>\n",
       "      <td>31284427.00</td>\n",
       "      <td>1085.94</td>\n",
       "      <td>607.03</td>\n",
       "      <td>0.00</td>\n",
       "      <td>867.66</td>\n",
       "      <td>1440.00</td>\n",
       "      <td>1440.00</td>\n",
       "      <td>1440.00</td>\n",
       "    </tr>\n",
       "    <tr>\n",
       "      <th>target_stock</th>\n",
       "      <td>31284427.00</td>\n",
       "      <td>17.86</td>\n",
       "      <td>123.50</td>\n",
       "      <td>1.00</td>\n",
       "      <td>3.00</td>\n",
       "      <td>6.00</td>\n",
       "      <td>13.00</td>\n",
       "      <td>32710.00</td>\n",
       "    </tr>\n",
       "  </tbody>\n",
       "</table>\n",
       "</div>"
      ],
      "text/plain": [
       "                     count      mean       std  min       25%       50%  \\\n",
       "sku            31284427.00 330294.43 190753.29 0.00 165190.00 330161.00   \n",
       "sold_quantity  31284427.00      1.02     10.69 0.00      0.00      0.00   \n",
       "current_price  31284427.00    543.28   2887.03 0.89     48.85    118.90   \n",
       "minutes_active 31284427.00   1085.94    607.03 0.00    867.66   1440.00   \n",
       "target_stock   31284427.00     17.86    123.50 1.00      3.00      6.00   \n",
       "\n",
       "                     75%       max  \n",
       "sku            495505.00 660914.00  \n",
       "sold_quantity       1.00   6951.00  \n",
       "current_price     298.00 850000.00  \n",
       "minutes_active   1440.00   1440.00  \n",
       "target_stock       13.00  32710.00  "
      ]
     },
     "execution_count": 30,
     "metadata": {},
     "output_type": "execute_result"
    }
   ],
   "source": [
    "df.describe().T\n"
   ]
  },
  {
   "cell_type": "markdown",
   "id": "a5f803d8",
   "metadata": {},
   "source": [
    "## 3. Data preprocessing"
   ]
  },
  {
   "cell_type": "code",
   "execution_count": 40,
   "id": "4f701926",
   "metadata": {},
   "outputs": [
    {
     "data": {
      "text/plain": [
       "array(['REA', 'MEX', 'DOL', 'ARG'], dtype=object)"
      ]
     },
     "execution_count": 40,
     "metadata": {},
     "output_type": "execute_result"
    }
   ],
   "source": [
    "df['currency'].unique()"
   ]
  },
  {
   "cell_type": "code",
   "execution_count": 36,
   "id": "e2cad422",
   "metadata": {},
   "outputs": [],
   "source": [
    "# Combine currency and current_price into sold_price unified in dollars\n",
    "df.loc[df.currency == 'REA', 'current_price'] = df['current_price'] / 5.08\n",
    "df.loc[df.currency == 'MEX', 'current_price'] = df['current_price'] / 19.89\n",
    "df.loc[df.currency == 'ARG', 'current_price'] = df['current_price'] / 96.57\n",
    "\n",
    "df = df.drop('currency', axis = 1)"
   ]
  },
  {
   "cell_type": "code",
   "execution_count": 42,
   "id": "f568ade1",
   "metadata": {},
   "outputs": [],
   "source": [
    "df.describe().T\n"
   ]
  },
  {
   "cell_type": "code",
   "execution_count": 43,
   "id": "d03bc112",
   "metadata": {},
   "outputs": [
    {
     "name": "stdout",
     "output_type": "stream",
     "text": [
      "551472  different values in feature  sku\n",
      "59   different values in feature  date\n",
      "1385  different values in feature  sold_quantity\n",
      "174066  different values in feature  current_price\n",
      "2    different values in feature  listing_type\n",
      "3    different values in feature  shipping_logistic_type\n",
      "2    different values in feature  shipping_payment\n",
      "834294  different values in feature  minutes_active\n",
      "1295  different values in feature  target_stock\n",
      "\n",
      "\u001b[1m Categorical features:  \u001b[0m ['listing_type', 'shipping_logistic_type', 'shipping_payment']\n",
      "\n",
      "\u001b[1m Continuous features:  \u001b[0m ['sku', 'date', 'sold_quantity', 'current_price', 'minutes_active', 'target_stock']\n"
     ]
    }
   ],
   "source": [
    "# Dividing our features into categorical and continuous\n",
    "cat_cols = []\n",
    "cont_cols = []\n",
    "\n",
    "for col in df.columns:\n",
    "    print(str(len(df[col].unique())).ljust(3), ' different values in feature ', col)\n",
    "    if len(df[col].unique()) <= 20:\n",
    "        cat_cols.append(col)\n",
    "    else:\n",
    "        cont_cols.append(col)\n",
    "\n",
    "print()\n",
    "print('\\033[1m', 'Categorical features: ', '\\033[0m', cat_cols, end = '\\n\\n')\n",
    "print('\\033[1m', 'Continuous features: ', '\\033[0m', cont_cols)"
   ]
  },
  {
   "cell_type": "code",
   "execution_count": 51,
   "id": "0ede2eab",
   "metadata": {},
   "outputs": [
    {
     "data": {
      "image/png": "[encoded data removed]",
      "text/plain": [
       "<Figure size 576x396 with 2 Axes>"
      ]
     },
     "metadata": {},
     "output_type": "display_data"
    }
   ],
   "source": [
    "# Correlation Matrix\n",
    "corr_matrix = df.corr()\n",
    "\n",
    "fig, ax = plt.subplots()\n",
    "ax = sns.heatmap(corr_matrix, annot = True, fmt = '.0%',\n",
    "                 cmap = 'seismic_r', center = 0, linewidths = 0.5)"
   ]
  },
  {
   "cell_type": "code",
   "execution_count": 53,
   "id": "fb926934",
   "metadata": {},
   "outputs": [
    {
     "ename": "ValueError",
     "evalue": "could not convert string to float: '2021-02-01'",
     "output_type": "error",
     "traceback": [
      "\u001b[1;31m---------------------------------------------------------------------------\u001b[0m",
      "\u001b[1;31mValueError\u001b[0m                                Traceback (most recent call last)",
      "\u001b[1;32m<ipython-input-53-0b217e9ba8fb>\u001b[0m in \u001b[0;36m<module>\u001b[1;34m\u001b[0m\n\u001b[0;32m      2\u001b[0m \u001b[0mstd_scaled\u001b[0m \u001b[1;33m=\u001b[0m \u001b[0mdf\u001b[0m\u001b[1;33m[\u001b[0m\u001b[0mcont_cols\u001b[0m\u001b[1;33m]\u001b[0m\u001b[1;33m\u001b[0m\u001b[1;33m\u001b[0m\u001b[0m\n\u001b[0;32m      3\u001b[0m \u001b[0mss\u001b[0m \u001b[1;33m=\u001b[0m \u001b[0mStandardScaler\u001b[0m\u001b[1;33m(\u001b[0m\u001b[1;33m)\u001b[0m\u001b[1;33m\u001b[0m\u001b[1;33m\u001b[0m\u001b[0m\n\u001b[1;32m----> 4\u001b[1;33m \u001b[0mstd_scaled\u001b[0m\u001b[1;33m[\u001b[0m\u001b[0mcont_cols\u001b[0m\u001b[1;33m]\u001b[0m \u001b[1;33m=\u001b[0m \u001b[0mss\u001b[0m\u001b[1;33m.\u001b[0m\u001b[0mfit_transform\u001b[0m\u001b[1;33m(\u001b[0m\u001b[0mstd_scaled\u001b[0m\u001b[1;33m[\u001b[0m\u001b[0mcont_cols\u001b[0m\u001b[1;33m]\u001b[0m\u001b[1;33m)\u001b[0m\u001b[1;33m\u001b[0m\u001b[1;33m\u001b[0m\u001b[0m\n\u001b[0m\u001b[0;32m      5\u001b[0m \u001b[1;33m\u001b[0m\u001b[0m\n\u001b[0;32m      6\u001b[0m \u001b[1;31m# Merge again in df\u001b[0m\u001b[1;33m\u001b[0m\u001b[1;33m\u001b[0m\u001b[1;33m\u001b[0m\u001b[0m\n",
      "\u001b[1;32mc:\\users\\ignia\\appdata\\local\\programs\\python\\python39\\lib\\site-packages\\sklearn\\base.py\u001b[0m in \u001b[0;36mfit_transform\u001b[1;34m(self, X, y, **fit_params)\u001b[0m\n\u001b[0;32m    697\u001b[0m         \u001b[1;32mif\u001b[0m \u001b[0my\u001b[0m \u001b[1;32mis\u001b[0m \u001b[1;32mNone\u001b[0m\u001b[1;33m:\u001b[0m\u001b[1;33m\u001b[0m\u001b[1;33m\u001b[0m\u001b[0m\n\u001b[0;32m    698\u001b[0m             \u001b[1;31m# fit method of arity 1 (unsupervised transformation)\u001b[0m\u001b[1;33m\u001b[0m\u001b[1;33m\u001b[0m\u001b[1;33m\u001b[0m\u001b[0m\n\u001b[1;32m--> 699\u001b[1;33m             \u001b[1;32mreturn\u001b[0m \u001b[0mself\u001b[0m\u001b[1;33m.\u001b[0m\u001b[0mfit\u001b[0m\u001b[1;33m(\u001b[0m\u001b[0mX\u001b[0m\u001b[1;33m,\u001b[0m \u001b[1;33m**\u001b[0m\u001b[0mfit_params\u001b[0m\u001b[1;33m)\u001b[0m\u001b[1;33m.\u001b[0m\u001b[0mtransform\u001b[0m\u001b[1;33m(\u001b[0m\u001b[0mX\u001b[0m\u001b[1;33m)\u001b[0m\u001b[1;33m\u001b[0m\u001b[1;33m\u001b[0m\u001b[0m\n\u001b[0m\u001b[0;32m    700\u001b[0m         \u001b[1;32melse\u001b[0m\u001b[1;33m:\u001b[0m\u001b[1;33m\u001b[0m\u001b[1;33m\u001b[0m\u001b[0m\n\u001b[0;32m    701\u001b[0m             \u001b[1;31m# fit method of arity 2 (supervised transformation)\u001b[0m\u001b[1;33m\u001b[0m\u001b[1;33m\u001b[0m\u001b[1;33m\u001b[0m\u001b[0m\n",
      "\u001b[1;32mc:\\users\\ignia\\appdata\\local\\programs\\python\\python39\\lib\\site-packages\\sklearn\\preprocessing\\_data.py\u001b[0m in \u001b[0;36mfit\u001b[1;34m(self, X, y, sample_weight)\u001b[0m\n\u001b[0;32m    728\u001b[0m         \u001b[1;31m# Reset internal state before fitting\u001b[0m\u001b[1;33m\u001b[0m\u001b[1;33m\u001b[0m\u001b[1;33m\u001b[0m\u001b[0m\n\u001b[0;32m    729\u001b[0m         \u001b[0mself\u001b[0m\u001b[1;33m.\u001b[0m\u001b[0m_reset\u001b[0m\u001b[1;33m(\u001b[0m\u001b[1;33m)\u001b[0m\u001b[1;33m\u001b[0m\u001b[1;33m\u001b[0m\u001b[0m\n\u001b[1;32m--> 730\u001b[1;33m         \u001b[1;32mreturn\u001b[0m \u001b[0mself\u001b[0m\u001b[1;33m.\u001b[0m\u001b[0mpartial_fit\u001b[0m\u001b[1;33m(\u001b[0m\u001b[0mX\u001b[0m\u001b[1;33m,\u001b[0m \u001b[0my\u001b[0m\u001b[1;33m,\u001b[0m \u001b[0msample_weight\u001b[0m\u001b[1;33m)\u001b[0m\u001b[1;33m\u001b[0m\u001b[1;33m\u001b[0m\u001b[0m\n\u001b[0m\u001b[0;32m    731\u001b[0m \u001b[1;33m\u001b[0m\u001b[0m\n\u001b[0;32m    732\u001b[0m     \u001b[1;32mdef\u001b[0m \u001b[0mpartial_fit\u001b[0m\u001b[1;33m(\u001b[0m\u001b[0mself\u001b[0m\u001b[1;33m,\u001b[0m \u001b[0mX\u001b[0m\u001b[1;33m,\u001b[0m \u001b[0my\u001b[0m\u001b[1;33m=\u001b[0m\u001b[1;32mNone\u001b[0m\u001b[1;33m,\u001b[0m \u001b[0msample_weight\u001b[0m\u001b[1;33m=\u001b[0m\u001b[1;32mNone\u001b[0m\u001b[1;33m)\u001b[0m\u001b[1;33m:\u001b[0m\u001b[1;33m\u001b[0m\u001b[1;33m\u001b[0m\u001b[0m\n",
      "\u001b[1;32mc:\\users\\ignia\\appdata\\local\\programs\\python\\python39\\lib\\site-packages\\sklearn\\preprocessing\\_data.py\u001b[0m in \u001b[0;36mpartial_fit\u001b[1;34m(self, X, y, sample_weight)\u001b[0m\n\u001b[0;32m    764\u001b[0m         \"\"\"\n\u001b[0;32m    765\u001b[0m         \u001b[0mfirst_call\u001b[0m \u001b[1;33m=\u001b[0m \u001b[1;32mnot\u001b[0m \u001b[0mhasattr\u001b[0m\u001b[1;33m(\u001b[0m\u001b[0mself\u001b[0m\u001b[1;33m,\u001b[0m \u001b[1;34m\"n_samples_seen_\"\u001b[0m\u001b[1;33m)\u001b[0m\u001b[1;33m\u001b[0m\u001b[1;33m\u001b[0m\u001b[0m\n\u001b[1;32m--> 766\u001b[1;33m         X = self._validate_data(X, accept_sparse=('csr', 'csc'),\n\u001b[0m\u001b[0;32m    767\u001b[0m                                 \u001b[0mestimator\u001b[0m\u001b[1;33m=\u001b[0m\u001b[0mself\u001b[0m\u001b[1;33m,\u001b[0m \u001b[0mdtype\u001b[0m\u001b[1;33m=\u001b[0m\u001b[0mFLOAT_DTYPES\u001b[0m\u001b[1;33m,\u001b[0m\u001b[1;33m\u001b[0m\u001b[1;33m\u001b[0m\u001b[0m\n\u001b[0;32m    768\u001b[0m                                 force_all_finite='allow-nan', reset=first_call)\n",
      "\u001b[1;32mc:\\users\\ignia\\appdata\\local\\programs\\python\\python39\\lib\\site-packages\\sklearn\\base.py\u001b[0m in \u001b[0;36m_validate_data\u001b[1;34m(self, X, y, reset, validate_separately, **check_params)\u001b[0m\n\u001b[0;32m    419\u001b[0m             \u001b[0mout\u001b[0m \u001b[1;33m=\u001b[0m \u001b[0mX\u001b[0m\u001b[1;33m\u001b[0m\u001b[1;33m\u001b[0m\u001b[0m\n\u001b[0;32m    420\u001b[0m         \u001b[1;32melif\u001b[0m \u001b[0misinstance\u001b[0m\u001b[1;33m(\u001b[0m\u001b[0my\u001b[0m\u001b[1;33m,\u001b[0m \u001b[0mstr\u001b[0m\u001b[1;33m)\u001b[0m \u001b[1;32mand\u001b[0m \u001b[0my\u001b[0m \u001b[1;33m==\u001b[0m \u001b[1;34m'no_validation'\u001b[0m\u001b[1;33m:\u001b[0m\u001b[1;33m\u001b[0m\u001b[1;33m\u001b[0m\u001b[0m\n\u001b[1;32m--> 421\u001b[1;33m             \u001b[0mX\u001b[0m \u001b[1;33m=\u001b[0m \u001b[0mcheck_array\u001b[0m\u001b[1;33m(\u001b[0m\u001b[0mX\u001b[0m\u001b[1;33m,\u001b[0m \u001b[1;33m**\u001b[0m\u001b[0mcheck_params\u001b[0m\u001b[1;33m)\u001b[0m\u001b[1;33m\u001b[0m\u001b[1;33m\u001b[0m\u001b[0m\n\u001b[0m\u001b[0;32m    422\u001b[0m             \u001b[0mout\u001b[0m \u001b[1;33m=\u001b[0m \u001b[0mX\u001b[0m\u001b[1;33m\u001b[0m\u001b[1;33m\u001b[0m\u001b[0m\n\u001b[0;32m    423\u001b[0m         \u001b[1;32melse\u001b[0m\u001b[1;33m:\u001b[0m\u001b[1;33m\u001b[0m\u001b[1;33m\u001b[0m\u001b[0m\n",
      "\u001b[1;32mc:\\users\\ignia\\appdata\\local\\programs\\python\\python39\\lib\\site-packages\\sklearn\\utils\\validation.py\u001b[0m in \u001b[0;36minner_f\u001b[1;34m(*args, **kwargs)\u001b[0m\n\u001b[0;32m     61\u001b[0m             \u001b[0mextra_args\u001b[0m \u001b[1;33m=\u001b[0m \u001b[0mlen\u001b[0m\u001b[1;33m(\u001b[0m\u001b[0margs\u001b[0m\u001b[1;33m)\u001b[0m \u001b[1;33m-\u001b[0m \u001b[0mlen\u001b[0m\u001b[1;33m(\u001b[0m\u001b[0mall_args\u001b[0m\u001b[1;33m)\u001b[0m\u001b[1;33m\u001b[0m\u001b[1;33m\u001b[0m\u001b[0m\n\u001b[0;32m     62\u001b[0m             \u001b[1;32mif\u001b[0m \u001b[0mextra_args\u001b[0m \u001b[1;33m<=\u001b[0m \u001b[1;36m0\u001b[0m\u001b[1;33m:\u001b[0m\u001b[1;33m\u001b[0m\u001b[1;33m\u001b[0m\u001b[0m\n\u001b[1;32m---> 63\u001b[1;33m                 \u001b[1;32mreturn\u001b[0m \u001b[0mf\u001b[0m\u001b[1;33m(\u001b[0m\u001b[1;33m*\u001b[0m\u001b[0margs\u001b[0m\u001b[1;33m,\u001b[0m \u001b[1;33m**\u001b[0m\u001b[0mkwargs\u001b[0m\u001b[1;33m)\u001b[0m\u001b[1;33m\u001b[0m\u001b[1;33m\u001b[0m\u001b[0m\n\u001b[0m\u001b[0;32m     64\u001b[0m \u001b[1;33m\u001b[0m\u001b[0m\n\u001b[0;32m     65\u001b[0m             \u001b[1;31m# extra_args > 0\u001b[0m\u001b[1;33m\u001b[0m\u001b[1;33m\u001b[0m\u001b[1;33m\u001b[0m\u001b[0m\n",
      "\u001b[1;32mc:\\users\\ignia\\appdata\\local\\programs\\python\\python39\\lib\\site-packages\\sklearn\\utils\\validation.py\u001b[0m in \u001b[0;36mcheck_array\u001b[1;34m(array, accept_sparse, accept_large_sparse, dtype, order, copy, force_all_finite, ensure_2d, allow_nd, ensure_min_samples, ensure_min_features, estimator)\u001b[0m\n\u001b[0;32m    671\u001b[0m                     \u001b[0marray\u001b[0m \u001b[1;33m=\u001b[0m \u001b[0marray\u001b[0m\u001b[1;33m.\u001b[0m\u001b[0mastype\u001b[0m\u001b[1;33m(\u001b[0m\u001b[0mdtype\u001b[0m\u001b[1;33m,\u001b[0m \u001b[0mcasting\u001b[0m\u001b[1;33m=\u001b[0m\u001b[1;34m\"unsafe\"\u001b[0m\u001b[1;33m,\u001b[0m \u001b[0mcopy\u001b[0m\u001b[1;33m=\u001b[0m\u001b[1;32mFalse\u001b[0m\u001b[1;33m)\u001b[0m\u001b[1;33m\u001b[0m\u001b[1;33m\u001b[0m\u001b[0m\n\u001b[0;32m    672\u001b[0m                 \u001b[1;32melse\u001b[0m\u001b[1;33m:\u001b[0m\u001b[1;33m\u001b[0m\u001b[1;33m\u001b[0m\u001b[0m\n\u001b[1;32m--> 673\u001b[1;33m                     \u001b[0marray\u001b[0m \u001b[1;33m=\u001b[0m \u001b[0mnp\u001b[0m\u001b[1;33m.\u001b[0m\u001b[0masarray\u001b[0m\u001b[1;33m(\u001b[0m\u001b[0marray\u001b[0m\u001b[1;33m,\u001b[0m \u001b[0morder\u001b[0m\u001b[1;33m=\u001b[0m\u001b[0morder\u001b[0m\u001b[1;33m,\u001b[0m \u001b[0mdtype\u001b[0m\u001b[1;33m=\u001b[0m\u001b[0mdtype\u001b[0m\u001b[1;33m)\u001b[0m\u001b[1;33m\u001b[0m\u001b[1;33m\u001b[0m\u001b[0m\n\u001b[0m\u001b[0;32m    674\u001b[0m             \u001b[1;32mexcept\u001b[0m \u001b[0mComplexWarning\u001b[0m \u001b[1;32mas\u001b[0m \u001b[0mcomplex_warning\u001b[0m\u001b[1;33m:\u001b[0m\u001b[1;33m\u001b[0m\u001b[1;33m\u001b[0m\u001b[0m\n\u001b[0;32m    675\u001b[0m                 raise ValueError(\"Complex data not supported\\n\"\n",
      "\u001b[1;32mc:\\users\\ignia\\appdata\\local\\programs\\python\\python39\\lib\\site-packages\\numpy\\core\\_asarray.py\u001b[0m in \u001b[0;36masarray\u001b[1;34m(a, dtype, order)\u001b[0m\n\u001b[0;32m     81\u001b[0m \u001b[1;33m\u001b[0m\u001b[0m\n\u001b[0;32m     82\u001b[0m     \"\"\"\n\u001b[1;32m---> 83\u001b[1;33m     \u001b[1;32mreturn\u001b[0m \u001b[0marray\u001b[0m\u001b[1;33m(\u001b[0m\u001b[0ma\u001b[0m\u001b[1;33m,\u001b[0m \u001b[0mdtype\u001b[0m\u001b[1;33m,\u001b[0m \u001b[0mcopy\u001b[0m\u001b[1;33m=\u001b[0m\u001b[1;32mFalse\u001b[0m\u001b[1;33m,\u001b[0m \u001b[0morder\u001b[0m\u001b[1;33m=\u001b[0m\u001b[0morder\u001b[0m\u001b[1;33m)\u001b[0m\u001b[1;33m\u001b[0m\u001b[1;33m\u001b[0m\u001b[0m\n\u001b[0m\u001b[0;32m     84\u001b[0m \u001b[1;33m\u001b[0m\u001b[0m\n\u001b[0;32m     85\u001b[0m \u001b[1;33m\u001b[0m\u001b[0m\n",
      "\u001b[1;32mc:\\users\\ignia\\appdata\\local\\programs\\python\\python39\\lib\\site-packages\\pandas\\core\\generic.py\u001b[0m in \u001b[0;36m__array__\u001b[1;34m(self, dtype)\u001b[0m\n\u001b[0;32m   1897\u001b[0m \u001b[1;33m\u001b[0m\u001b[0m\n\u001b[0;32m   1898\u001b[0m     \u001b[1;32mdef\u001b[0m \u001b[0m__array__\u001b[0m\u001b[1;33m(\u001b[0m\u001b[0mself\u001b[0m\u001b[1;33m,\u001b[0m \u001b[0mdtype\u001b[0m\u001b[1;33m=\u001b[0m\u001b[1;32mNone\u001b[0m\u001b[1;33m)\u001b[0m \u001b[1;33m->\u001b[0m \u001b[0mnp\u001b[0m\u001b[1;33m.\u001b[0m\u001b[0mndarray\u001b[0m\u001b[1;33m:\u001b[0m\u001b[1;33m\u001b[0m\u001b[1;33m\u001b[0m\u001b[0m\n\u001b[1;32m-> 1899\u001b[1;33m         \u001b[1;32mreturn\u001b[0m \u001b[0mnp\u001b[0m\u001b[1;33m.\u001b[0m\u001b[0masarray\u001b[0m\u001b[1;33m(\u001b[0m\u001b[0mself\u001b[0m\u001b[1;33m.\u001b[0m\u001b[0m_values\u001b[0m\u001b[1;33m,\u001b[0m \u001b[0mdtype\u001b[0m\u001b[1;33m=\u001b[0m\u001b[0mdtype\u001b[0m\u001b[1;33m)\u001b[0m\u001b[1;33m\u001b[0m\u001b[1;33m\u001b[0m\u001b[0m\n\u001b[0m\u001b[0;32m   1900\u001b[0m \u001b[1;33m\u001b[0m\u001b[0m\n\u001b[0;32m   1901\u001b[0m     def __array_wrap__(\n",
      "\u001b[1;32mc:\\users\\ignia\\appdata\\local\\programs\\python\\python39\\lib\\site-packages\\numpy\\core\\_asarray.py\u001b[0m in \u001b[0;36masarray\u001b[1;34m(a, dtype, order)\u001b[0m\n\u001b[0;32m     81\u001b[0m \u001b[1;33m\u001b[0m\u001b[0m\n\u001b[0;32m     82\u001b[0m     \"\"\"\n\u001b[1;32m---> 83\u001b[1;33m     \u001b[1;32mreturn\u001b[0m \u001b[0marray\u001b[0m\u001b[1;33m(\u001b[0m\u001b[0ma\u001b[0m\u001b[1;33m,\u001b[0m \u001b[0mdtype\u001b[0m\u001b[1;33m,\u001b[0m \u001b[0mcopy\u001b[0m\u001b[1;33m=\u001b[0m\u001b[1;32mFalse\u001b[0m\u001b[1;33m,\u001b[0m \u001b[0morder\u001b[0m\u001b[1;33m=\u001b[0m\u001b[0morder\u001b[0m\u001b[1;33m)\u001b[0m\u001b[1;33m\u001b[0m\u001b[1;33m\u001b[0m\u001b[0m\n\u001b[0m\u001b[0;32m     84\u001b[0m \u001b[1;33m\u001b[0m\u001b[0m\n\u001b[0;32m     85\u001b[0m \u001b[1;33m\u001b[0m\u001b[0m\n",
      "\u001b[1;31mValueError\u001b[0m: could not convert string to float: '2021-02-01'"
     ]
    }
   ],
   "source": [
    "# Scaling continuous values\n",
    "std_scaled = df[cont_cols]\n",
    "ss = StandardScaler()\n",
    "std_scaled[cont_cols] = ss.fit_transform(std_scaled[cont_cols])\n",
    "\n",
    "# Merge again in df\n",
    "df[cont_cols] =std_scaled[cont_cols]\n",
    "\n",
    "df.head()"
   ]
  },
  {
   "cell_type": "code",
   "execution_count": null,
   "id": "17e8b45e",
   "metadata": {},
   "outputs": [],
   "source": [
    "# Splitting data into train/test sets\n",
    "X = std_scaled.drop('target', axis = 1)\n",
    "y = std_scaled.target\n",
    "\n",
    "X_train, X_test, y_train, y_test = train_test_split(X, y, train_size = 0.7,\n",
    "                                                    stratify = y, random_state = 2)"
   ]
  },
  {
   "cell_type": "code",
   "execution_count": null,
   "id": "ad6a7f00",
   "metadata": {},
   "outputs": [],
   "source": []
  },
  {
   "cell_type": "markdown",
   "id": "8eb620bb",
   "metadata": {},
   "source": [
    "## 4. Machine Learning algorithms"
   ]
  },
  {
   "cell_type": "code",
   "execution_count": null,
   "id": "0273ebe6",
   "metadata": {},
   "outputs": [],
   "source": []
  }
 ],
 "metadata": {
  "kernelspec": {
   "display_name": "Python 3",
   "language": "python",
   "name": "python3"
  },
  "language_info": {
   "codemirror_mode": {
    "name": "ipython",
    "version": 3
   },
   "file_extension": ".py",
   "mimetype": "text/x-python",
   "name": "python",
   "nbconvert_exporter": "python",
   "pygments_lexer": "ipython3",
   "version": "3.9.5"
  }
 },
 "nbformat": 4,
 "nbformat_minor": 5
}
